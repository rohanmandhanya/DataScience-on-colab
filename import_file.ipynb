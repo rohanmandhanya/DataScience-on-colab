{
  "nbformat": 4,
  "nbformat_minor": 0,
  "metadata": {
    "colab": {
      "name": "import file.ipynb",
      "provenance": [],
      "collapsed_sections": [],
      "include_colab_link": true
    },
    "kernelspec": {
      "name": "python3",
      "display_name": "Python 3"
    }
  },
  "cells": [
    {
      "cell_type": "markdown",
      "metadata": {
        "id": "view-in-github",
        "colab_type": "text"
      },
      "source": [
        "<a href=\"https://colab.research.google.com/github/rohanmandhanya/DataScience-on-colab/blob/master/import_file.ipynb\" target=\"_parent\"><img src=\"https://colab.research.google.com/assets/colab-badge.svg\" alt=\"Open In Colab\"/></a>"
      ]
    },
    {
      "cell_type": "markdown",
      "metadata": {
        "id": "FplQhIUaegtt",
        "colab_type": "text"
      },
      "source": [
        "# Reading File in _io.TextWarpper using path"
      ]
    },
    {
      "cell_type": "code",
      "metadata": {
        "id": "hvIXG7P8VAxU",
        "colab_type": "code",
        "outputId": "eeea2161-7388-47f4-842c-748cef5ebb74",
        "colab": {
          "base_uri": "https://localhost:8080/",
          "height": 121
        }
      },
      "source": [
        "from google.colab import drive\n",
        "drive.mount('/content/gdrive')"
      ],
      "execution_count": 0,
      "outputs": [
        {
          "output_type": "stream",
          "text": [
            "Go to this URL in a browser: https://accounts.google.com/o/oauth2/auth?client_id=947318989803-6bn6qk8qdgf4n4g3pfee6491hc0brc4i.apps.googleusercontent.com&redirect_uri=urn%3Aietf%3Awg%3Aoauth%3A2.0%3Aoob&scope=email%20https%3A%2F%2Fwww.googleapis.com%2Fauth%2Fdocs.test%20https%3A%2F%2Fwww.googleapis.com%2Fauth%2Fdrive%20https%3A%2F%2Fwww.googleapis.com%2Fauth%2Fdrive.photos.readonly%20https%3A%2F%2Fwww.googleapis.com%2Fauth%2Fpeopleapi.readonly&response_type=code\n",
            "\n",
            "Enter your authorization code:\n",
            "··········\n",
            "Mounted at /content/gdrive\n"
          ],
          "name": "stdout"
        }
      ]
    },
    {
      "cell_type": "code",
      "metadata": {
        "id": "3ID1TLHKVCpP",
        "colab_type": "code",
        "colab": {}
      },
      "source": [
        "import pandas as pd\n",
        "import numpy as np"
      ],
      "execution_count": 0,
      "outputs": []
    },
    {
      "cell_type": "code",
      "metadata": {
        "id": "LYnZdvUJWuNp",
        "colab_type": "code",
        "colab": {}
      },
      "source": [
        "textfile = open('/content/gdrive/My Drive/Colab Notebooks/breast_cancer.csv' , 'r')"
      ],
      "execution_count": 0,
      "outputs": []
    },
    {
      "cell_type": "code",
      "metadata": {
        "id": "zdYt-ewzW751",
        "colab_type": "code",
        "outputId": "424c24d3-d980-4ef4-880a-1f72b956b4b1",
        "colab": {
          "base_uri": "https://localhost:8080/",
          "height": 4855
        }
      },
      "source": [
        "with open('/content/gdrive/My Drive/Colab Notebooks/breast_cancer.csv', 'r') as f2:\n",
        "    data = f2.read()\n",
        "    print(data)"
      ],
      "execution_count": 0,
      "outputs": [
        {
          "output_type": "stream",
          "text": [
            "age,menopause,tumor-size,inv-nodes,node-caps,deg-malig,breast,breast-quad,irradiat,Class\n",
            "40-49,premeno,15-19,0-2,yes,3,right,left_up,no,recurrence-events\n",
            "50-59,ge40,15-19,0-2,no,1,right,central,no,no-recurrence-events\n",
            "50-59,ge40,35-39,0-2,no,2,left,left_low,no,recurrence-events\n",
            "40-49,premeno,35-39,0-2,yes,3,right,left_low,yes,no-recurrence-events\n",
            "40-49,premeno,30-34,3-5,yes,2,left,right_up,no,recurrence-events\n",
            "50-59,premeno,25-29,3-5,no,2,right,left_up,yes,no-recurrence-events\n",
            "50-59,ge40,40-44,0-2,no,3,left,left_up,no,no-recurrence-events\n",
            "40-49,premeno,10-14,0-2,no,2,left,left_up,no,no-recurrence-events\n",
            "40-49,premeno,0-4,0-2,no,2,right,right_low,no,no-recurrence-events\n",
            "40-49,ge40,40-44,15-17,yes,2,right,left_up,yes,no-recurrence-events\n",
            "50-59,premeno,25-29,0-2,no,2,left,left_low,no,no-recurrence-events\n",
            "60-69,ge40,15-19,0-2,no,2,right,left_up,no,no-recurrence-events\n",
            "50-59,ge40,30-34,0-2,no,1,right,central,no,no-recurrence-events\n",
            "50-59,ge40,25-29,0-2,no,2,right,left_up,no,no-recurrence-events\n",
            "40-49,premeno,25-29,0-2,no,2,left,left_low,yes,recurrence-events\n",
            "30-39,premeno,20-24,0-2,no,3,left,central,no,no-recurrence-events\n",
            "50-59,premeno,10-14,3-5,no,1,right,left_up,no,no-recurrence-events\n",
            "60-69,ge40,15-19,0-2,no,2,right,left_up,no,no-recurrence-events\n",
            "50-59,premeno,40-44,0-2,no,2,left,left_up,no,no-recurrence-events\n",
            "50-59,ge40,20-24,0-2,no,3,left,left_up,no,no-recurrence-events\n",
            "50-59,lt40,20-24,0-2,,1,left,left_low,no,recurrence-events\n",
            "60-69,ge40,40-44,3-5,no,2,right,left_up,yes,no-recurrence-events\n",
            "50-59,ge40,15-19,0-2,no,2,right,left_low,no,no-recurrence-events\n",
            "40-49,premeno,10-14,0-2,no,1,right,left_up,no,no-recurrence-events\n",
            "30-39,premeno,15-19,6-8,yes,3,left,left_low,yes,recurrence-events\n",
            "50-59,ge40,20-24,3-5,yes,2,right,left_up,no,no-recurrence-events\n",
            "50-59,ge40,10-14,0-2,no,2,right,left_low,no,no-recurrence-events\n",
            "40-49,premeno,10-14,0-2,no,1,right,left_up,no,no-recurrence-events\n",
            "60-69,ge40,30-34,3-5,yes,3,left,left_low,no,no-recurrence-events\n",
            "40-49,premeno,15-19,15-17,yes,3,left,left_low,no,recurrence-events\n",
            "60-69,ge40,30-34,0-2,no,3,right,central,no,recurrence-events\n",
            "60-69,ge40,25-29,3-5,,1,right,left_low,yes,no-recurrence-events\n",
            "50-59,ge40,25-29,0-2,no,3,left,right_up,no,no-recurrence-events\n",
            "50-59,ge40,20-24,0-2,no,3,right,left_up,no,no-recurrence-events\n",
            "40-49,premeno,30-34,0-2,no,1,left,left_low,yes,recurrence-events\n",
            "30-39,premeno,15-19,0-2,no,1,left,left_low,no,no-recurrence-events\n",
            "40-49,premeno,10-14,0-2,no,2,right,left_up,no,no-recurrence-events\n",
            "60-69,ge40,45-49,6-8,yes,3,left,central,no,no-recurrence-events\n",
            "40-49,ge40,20-24,0-2,no,3,left,left_low,no,no-recurrence-events\n",
            "40-49,premeno,10-14,0-2,no,1,right,right_low,no,no-recurrence-events\n",
            "30-39,premeno,35-39,0-2,no,3,left,left_low,no,recurrence-events\n",
            "40-49,premeno,35-39,9-11,yes,2,right,right_up,yes,no-recurrence-events\n",
            "60-69,ge40,25-29,0-2,no,2,right,left_low,no,no-recurrence-events\n",
            "50-59,ge40,20-24,3-5,yes,3,right,right_up,no,recurrence-events\n",
            "30-39,premeno,15-19,0-2,no,1,left,left_low,no,no-recurrence-events\n",
            "50-59,premeno,30-34,0-2,no,3,left,right_up,no,recurrence-events\n",
            "60-69,ge40,10-14,0-2,no,2,right,left_up,yes,no-recurrence-events\n",
            "40-49,premeno,35-39,0-2,yes,3,right,left_up,yes,no-recurrence-events\n",
            "50-59,premeno,50-54,0-2,yes,2,right,left_up,yes,no-recurrence-events\n",
            "50-59,ge40,40-44,0-2,no,3,right,left_up,no,no-recurrence-events\n",
            "70-79,ge40,15-19,9-11,,1,left,left_low,yes,recurrence-events\n",
            "50-59,lt40,30-34,0-2,no,3,right,left_up,no,no-recurrence-events\n",
            "40-49,premeno,0-4,0-2,no,3,left,central,no,no-recurrence-events\n",
            "70-79,ge40,40-44,0-2,no,1,right,right_up,no,no-recurrence-events\n",
            "40-49,premeno,25-29,0-2,,2,left,right_low,yes,no-recurrence-events\n",
            "50-59,ge40,25-29,15-17,yes,3,right,left_up,no,no-recurrence-events\n",
            "50-59,premeno,20-24,0-2,no,1,left,left_low,no,no-recurrence-events\n",
            "50-59,ge40,35-39,15-17,no,3,left,left_low,no,no-recurrence-events\n",
            "50-59,ge40,50-54,0-2,no,1,right,right_up,no,no-recurrence-events\n",
            "30-39,premeno,0-4,0-2,no,2,right,central,no,recurrence-events\n",
            "50-59,ge40,40-44,6-8,yes,3,left,left_low,yes,recurrence-events\n",
            "40-49,premeno,30-34,0-2,no,2,right,right_up,yes,no-recurrence-events\n",
            "40-49,ge40,20-24,0-2,no,3,left,left_up,no,no-recurrence-events\n",
            "40-49,premeno,30-34,15-17,yes,3,left,left_low,no,recurrence-events\n",
            "40-49,ge40,20-24,0-2,no,2,right,left_up,no,recurrence-events\n",
            "50-59,ge40,15-19,0-2,no,1,right,central,no,no-recurrence-events\n",
            "30-39,premeno,25-29,0-2,no,2,right,left_low,no,no-recurrence-events\n",
            "60-69,ge40,15-19,0-2,no,2,left,left_low,no,no-recurrence-events\n",
            "50-59,premeno,50-54,9-11,yes,2,right,left_up,no,recurrence-events\n",
            "30-39,premeno,10-14,0-2,no,1,right,left_low,no,no-recurrence-events\n",
            "50-59,premeno,25-29,3-5,yes,3,left,left_low,yes,recurrence-events\n",
            "60-69,ge40,25-29,3-5,,1,right,left_up,yes,no-recurrence-events\n",
            "60-69,ge40,10-14,0-2,no,1,right,left_low,no,no-recurrence-events\n",
            "50-59,ge40,30-34,6-8,yes,3,left,right_low,no,recurrence-events\n",
            "30-39,premeno,25-29,6-8,yes,3,left,right_low,yes,recurrence-events\n",
            "50-59,ge40,10-14,0-2,no,1,left,left_low,no,no-recurrence-events\n",
            "50-59,premeno,15-19,0-2,no,1,left,left_low,no,no-recurrence-events\n",
            "40-49,premeno,25-29,0-2,no,2,right,central,no,no-recurrence-events\n",
            "40-49,premeno,25-29,0-2,no,3,left,right_up,no,recurrence-events\n",
            "60-69,ge40,30-34,6-8,yes,2,right,right_up,no,no-recurrence-events\n",
            "50-59,lt40,15-19,0-2,no,2,left,left_low,no,no-recurrence-events\n",
            "40-49,premeno,25-29,0-2,no,2,right,left_low,no,no-recurrence-events\n",
            "40-49,premeno,30-34,0-2,no,1,right,left_up,no,no-recurrence-events\n",
            "60-69,ge40,15-19,0-2,no,2,left,left_up,yes,no-recurrence-events\n",
            "30-39,premeno,0-4,0-2,no,2,right,central,no,no-recurrence-events\n",
            "50-59,ge40,35-39,0-2,no,3,left,left_up,no,no-recurrence-events\n",
            "40-49,premeno,40-44,0-2,no,1,right,left_up,no,no-recurrence-events\n",
            "30-39,premeno,25-29,6-8,yes,2,right,left_up,yes,no-recurrence-events\n",
            "50-59,ge40,20-24,0-2,no,1,right,left_low,no,no-recurrence-events\n",
            "50-59,ge40,30-34,0-2,no,1,left,left_up,no,no-recurrence-events\n",
            "60-69,ge40,20-24,0-2,no,1,right,left_up,no,recurrence-events\n",
            "30-39,premeno,30-34,3-5,no,3,right,left_up,yes,recurrence-events\n",
            "50-59,lt40,20-24,0-2,,1,left,left_up,no,recurrence-events\n",
            "50-59,premeno,10-14,0-2,no,2,right,left_up,no,no-recurrence-events\n",
            "50-59,ge40,20-24,0-2,no,2,right,left_up,no,no-recurrence-events\n",
            "40-49,premeno,45-49,0-2,no,2,left,left_low,yes,no-recurrence-events\n",
            "30-39,premeno,40-44,0-2,no,1,left,left_up,no,recurrence-events\n",
            "50-59,premeno,10-14,0-2,no,1,left,left_low,no,no-recurrence-events\n",
            "60-69,ge40,30-34,0-2,no,3,right,left_up,yes,recurrence-events\n",
            "40-49,premeno,35-39,0-2,no,1,right,left_up,no,recurrence-events\n",
            "40-49,premeno,20-24,3-5,yes,2,left,left_low,yes,recurrence-events\n",
            "50-59,premeno,15-19,0-2,no,2,left,left_low,no,recurrence-events\n",
            "50-59,ge40,30-34,0-2,no,3,right,left_low,no,no-recurrence-events\n",
            "60-69,ge40,20-24,0-2,no,2,left,left_up,no,no-recurrence-events\n",
            "40-49,premeno,20-24,0-2,no,1,left,right_low,no,no-recurrence-events\n",
            "60-69,ge40,30-34,3-5,yes,2,left,central,yes,recurrence-events\n",
            "60-69,ge40,20-24,3-5,no,2,left,left_low,yes,recurrence-events\n",
            "50-59,premeno,25-29,0-2,no,2,left,right_up,no,recurrence-events\n",
            "50-59,ge40,30-34,0-2,no,1,right,right_up,no,no-recurrence-events\n",
            "40-49,premeno,20-24,0-2,no,2,left,right_low,no,no-recurrence-events\n",
            "60-69,ge40,15-19,0-2,no,1,right,left_up,no,no-recurrence-events\n",
            "60-69,ge40,30-34,0-2,no,2,left,left_low,yes,no-recurrence-events\n",
            "30-39,premeno,30-34,0-2,no,2,left,left_up,no,no-recurrence-events\n",
            "30-39,premeno,40-44,3-5,no,3,right,right_up,yes,no-recurrence-events\n",
            "60-69,ge40,5-9,0-2,no,1,left,central,no,no-recurrence-events\n",
            "60-69,ge40,10-14,0-2,no,1,left,left_up,no,no-recurrence-events\n",
            "40-49,premeno,30-34,6-8,yes,3,right,left_up,no,recurrence-events\n",
            "60-69,ge40,10-14,0-2,no,1,left,left_up,no,no-recurrence-events\n",
            "40-49,premeno,35-39,9-11,yes,2,right,left_up,yes,no-recurrence-events\n",
            "40-49,premeno,20-24,0-2,no,1,right,left_low,no,no-recurrence-events\n",
            "40-49,premeno,30-34,0-2,yes,3,right,right_up,no,recurrence-events\n",
            "50-59,premeno,25-29,0-2,yes,2,left,left_up,no,no-recurrence-events\n",
            "40-49,premeno,15-19,0-2,no,2,left,left_low,no,no-recurrence-events\n",
            "30-39,premeno,35-39,9-11,yes,3,left,left_low,no,recurrence-events\n",
            "30-39,premeno,10-14,0-2,no,2,left,right_low,no,no-recurrence-events\n",
            "50-59,ge40,30-34,0-2,no,1,right,left_low,no,no-recurrence-events\n",
            "60-69,ge40,30-34,0-2,no,2,left,left_up,no,no-recurrence-events\n",
            "60-69,ge40,25-29,0-2,no,2,left,left_low,no,no-recurrence-events\n",
            "40-49,premeno,15-19,0-2,no,2,left,left_up,no,recurrence-events\n",
            "60-69,ge40,15-19,0-2,no,2,right,left_low,no,no-recurrence-events\n",
            "40-49,premeno,30-34,0-2,no,2,left,right_low,no,no-recurrence-events\n",
            "20-29,premeno,35-39,0-2,no,2,right,right_up,no,no-recurrence-events\n",
            "40-49,premeno,30-34,0-2,no,3,right,right_up,no,recurrence-events\n",
            "40-49,premeno,25-29,0-2,no,2,right,left_low,no,recurrence-events\n",
            "30-39,premeno,30-34,0-2,no,3,left,left_low,no,no-recurrence-events\n",
            "30-39,premeno,15-19,0-2,no,1,right,left_low,no,recurrence-events\n",
            "50-59,ge40,0-4,0-2,no,1,right,central,no,no-recurrence-events\n",
            "50-59,ge40,0-4,0-2,no,1,left,left_low,no,no-recurrence-events\n",
            "60-69,ge40,50-54,0-2,no,3,right,left_up,no,recurrence-events\n",
            "50-59,premeno,30-34,0-2,no,1,left,central,no,no-recurrence-events\n",
            "60-69,ge40,20-24,24-26,yes,3,left,left_low,yes,recurrence-events\n",
            "40-49,premeno,25-29,0-2,no,2,left,left_up,no,no-recurrence-events\n",
            "40-49,premeno,30-34,3-5,no,2,right,left_up,no,recurrence-events\n",
            "50-59,premeno,20-24,3-5,yes,2,left,left_low,no,no-recurrence-events\n",
            "50-59,ge40,15-19,0-2,yes,2,left,central,yes,no-recurrence-events\n",
            "50-59,premeno,10-14,0-2,no,3,left,left_low,no,no-recurrence-events\n",
            "30-39,premeno,30-34,9-11,no,2,right,left_up,yes,recurrence-events\n",
            "60-69,ge40,10-14,0-2,no,1,left,left_low,no,no-recurrence-events\n",
            "40-49,premeno,40-44,0-2,no,2,right,left_low,no,no-recurrence-events\n",
            "50-59,ge40,30-34,9-11,,3,left,left_up,yes,no-recurrence-events\n",
            "40-49,premeno,50-54,0-2,no,2,right,left_low,yes,recurrence-events\n",
            "50-59,ge40,15-19,0-2,no,2,right,right_up,no,no-recurrence-events\n",
            "50-59,ge40,40-44,3-5,yes,2,left,left_low,no,no-recurrence-events\n",
            "30-39,premeno,25-29,3-5,yes,3,left,left_low,yes,recurrence-events\n",
            "60-69,ge40,10-14,0-2,no,2,left,left_low,no,no-recurrence-events\n",
            "60-69,lt40,10-14,0-2,no,1,left,right_up,no,no-recurrence-events\n",
            "30-39,premeno,30-34,0-2,no,2,left,left_up,no,recurrence-events\n",
            "30-39,premeno,20-24,3-5,yes,2,left,left_low,no,recurrence-events\n",
            "50-59,ge40,10-14,0-2,no,1,right,left_up,no,no-recurrence-events\n",
            "60-69,ge40,25-29,0-2,no,3,right,left_up,no,no-recurrence-events\n",
            "50-59,ge40,25-29,3-5,yes,3,right,left_up,no,no-recurrence-events\n",
            "40-49,premeno,30-34,6-8,no,2,left,left_up,no,no-recurrence-events\n",
            "60-69,ge40,50-54,0-2,no,2,left,left_low,no,no-recurrence-events\n",
            "50-59,premeno,30-34,0-2,no,3,left,left_low,no,no-recurrence-events\n",
            "40-49,ge40,20-24,3-5,no,3,right,left_low,yes,recurrence-events\n",
            "50-59,ge40,30-34,6-8,yes,2,left,right_low,yes,recurrence-events\n",
            "60-69,ge40,25-29,3-5,no,2,right,right_up,no,recurrence-events\n",
            "40-49,premeno,20-24,0-2,no,2,left,central,no,no-recurrence-events\n",
            "40-49,premeno,20-24,0-2,no,2,left,left_up,no,no-recurrence-events\n",
            "40-49,premeno,50-54,0-2,no,2,left,left_low,no,no-recurrence-events\n",
            "50-59,ge40,20-24,0-2,no,2,right,central,no,recurrence-events\n",
            "50-59,ge40,30-34,3-5,no,3,right,left_up,no,recurrence-events\n",
            "40-49,ge40,25-29,0-2,no,2,left,left_low,no,no-recurrence-events\n",
            "50-59,premeno,25-29,0-2,no,1,right,left_up,no,recurrence-events\n",
            "40-49,premeno,40-44,3-5,yes,3,right,left_up,yes,no-recurrence-events\n",
            "40-49,premeno,20-24,0-2,no,2,right,left_up,no,no-recurrence-events\n",
            "40-49,premeno,20-24,3-5,no,2,right,left_up,no,no-recurrence-events\n",
            "40-49,premeno,25-29,9-11,yes,3,right,left_up,no,recurrence-events\n",
            "40-49,premeno,25-29,0-2,no,2,right,left_low,no,recurrence-events\n",
            "40-49,premeno,20-24,0-2,no,1,right,right_up,no,no-recurrence-events\n",
            "30-39,premeno,40-44,0-2,no,2,right,right_up,no,no-recurrence-events\n",
            "60-69,ge40,10-14,6-8,yes,3,left,left_up,yes,recurrence-events\n",
            "40-49,premeno,35-39,0-2,no,1,left,left_low,no,no-recurrence-events\n",
            "50-59,ge40,30-34,3-5,no,3,left,left_low,no,recurrence-events\n",
            "40-49,premeno,5-9,0-2,no,1,left,left_low,yes,no-recurrence-events\n",
            "60-69,ge40,15-19,0-2,no,1,left,right_low,no,no-recurrence-events\n",
            "40-49,premeno,30-34,0-2,no,3,right,right_up,no,no-recurrence-events\n",
            "40-49,premeno,25-29,0-2,no,3,left,left_up,no,recurrence-events\n",
            "50-59,ge40,5-9,0-2,no,2,right,right_up,no,no-recurrence-events\n",
            "50-59,premeno,25-29,0-2,no,2,right,right_low,no,no-recurrence-events\n",
            "50-59,premeno,25-29,0-2,no,2,left,right_up,no,recurrence-events\n",
            "40-49,premeno,10-14,0-2,no,2,left,left_low,yes,no-recurrence-events\n",
            "60-69,ge40,35-39,6-8,yes,3,left,left_low,no,recurrence-events\n",
            "60-69,ge40,50-54,0-2,no,2,right,left_up,yes,no-recurrence-events\n",
            "40-49,premeno,25-29,0-2,no,2,right,left_up,no,no-recurrence-events\n",
            "30-39,premeno,20-24,3-5,no,2,right,central,no,no-recurrence-events\n",
            "30-39,premeno,30-34,0-2,no,1,right,left_up,no,recurrence-events\n",
            "60-69,lt40,30-34,0-2,no,1,left,left_low,no,no-recurrence-events\n",
            "40-49,premeno,15-19,12-14,no,3,right,right_low,yes,no-recurrence-events\n",
            "60-69,ge40,20-24,0-2,no,3,right,left_low,no,recurrence-events\n",
            "30-39,premeno,5-9,0-2,no,2,left,right_low,no,no-recurrence-events\n",
            "40-49,premeno,30-34,0-2,no,3,left,left_up,no,no-recurrence-events\n",
            "60-69,ge40,30-34,0-2,no,3,left,left_low,no,no-recurrence-events\n",
            "40-49,premeno,25-29,0-2,no,1,right,right_low,no,no-recurrence-events\n",
            "40-49,premeno,25-29,0-2,no,1,left,right_low,no,no-recurrence-events\n",
            "60-69,ge40,40-44,3-5,yes,3,right,left_low,no,recurrence-events\n",
            "50-59,ge40,25-29,0-2,no,2,left,left_low,no,no-recurrence-events\n",
            "50-59,premeno,30-34,0-2,no,3,right,left_up,yes,recurrence-events\n",
            "40-49,ge40,30-34,3-5,no,3,left,left_low,no,recurrence-events\n",
            "40-49,premeno,25-29,0-2,no,1,right,left_low,yes,no-recurrence-events\n",
            "40-49,ge40,25-29,12-14,yes,3,left,right_low,yes,recurrence-events\n",
            "40-49,premeno,40-44,0-2,no,1,left,left_low,no,recurrence-events\n",
            "40-49,premeno,20-24,0-2,no,2,left,left_low,no,no-recurrence-events\n",
            "50-59,ge40,25-29,0-2,no,1,left,right_low,no,no-recurrence-events\n",
            "40-49,premeno,20-24,0-2,no,2,right,left_up,no,no-recurrence-events\n",
            "70-79,ge40,40-44,0-2,no,1,right,left_up,no,no-recurrence-events\n",
            "60-69,ge40,25-29,0-2,no,3,left,left_up,no,recurrence-events\n",
            "50-59,premeno,25-29,0-2,no,2,left,left_low,no,no-recurrence-events\n",
            "60-69,ge40,45-49,0-2,no,1,right,right_up,yes,recurrence-events\n",
            "50-59,ge40,20-24,0-2,yes,2,right,left_up,no,no-recurrence-events\n",
            "50-59,ge40,25-29,0-2,no,1,left,left_low,no,no-recurrence-events\n",
            "50-59,ge40,20-24,0-2,no,3,left,left_up,no,no-recurrence-events\n",
            "40-49,premeno,20-24,3-5,no,2,right,left_low,no,no-recurrence-events\n",
            "50-59,ge40,35-39,0-2,no,2,left,left_up,no,no-recurrence-events\n",
            "30-39,premeno,20-24,0-2,no,3,left,left_up,yes,recurrence-events\n",
            "60-69,ge40,30-34,0-2,no,1,right,left_up,no,no-recurrence-events\n",
            "60-69,ge40,25-29,0-2,no,3,right,left_low,no,no-recurrence-events\n",
            "40-49,ge40,30-34,0-2,no,2,left,left_up,yes,no-recurrence-events\n",
            "30-39,premeno,25-29,0-2,no,2,left,left_low,no,no-recurrence-events\n",
            "40-49,premeno,20-24,0-2,no,2,left,left_low,no,recurrence-events\n",
            "30-39,premeno,20-24,0-2,no,2,left,right_low,no,no-recurrence-events\n",
            "40-49,premeno,10-14,0-2,no,2,right,left_low,no,no-recurrence-events\n",
            "50-59,premeno,15-19,0-2,no,2,right,right_low,no,no-recurrence-events\n",
            "50-59,premeno,25-29,0-2,no,1,right,left_up,no,no-recurrence-events\n",
            "60-69,ge40,20-24,0-2,no,2,right,left_up,no,no-recurrence-events\n",
            "60-69,ge40,40-44,0-2,no,2,right,left_low,no,recurrence-events\n",
            "30-39,lt40,15-19,0-2,no,3,right,left_up,no,no-recurrence-events\n",
            "40-49,premeno,30-34,12-14,yes,3,left,left_up,yes,recurrence-events\n",
            "60-69,ge40,30-34,0-2,yes,2,right,right_up,yes,recurrence-events\n",
            "50-59,ge40,40-44,6-8,yes,3,left,left_low,yes,recurrence-events\n",
            "50-59,ge40,30-34,0-2,no,3,left,,no,recurrence-events\n",
            "70-79,ge40,10-14,0-2,no,2,left,central,no,no-recurrence-events\n",
            "30-39,premeno,40-44,0-2,no,2,left,left_low,yes,no-recurrence-events\n",
            "40-49,premeno,30-34,0-2,no,2,right,right_low,no,no-recurrence-events\n",
            "40-49,premeno,30-34,0-2,no,1,left,left_low,no,no-recurrence-events\n",
            "60-69,ge40,15-19,0-2,no,2,left,left_low,no,no-recurrence-events\n",
            "40-49,premeno,10-14,0-2,no,2,left,left_low,no,no-recurrence-events\n",
            "60-69,ge40,20-24,0-2,no,1,left,left_low,no,no-recurrence-events\n",
            "50-59,ge40,10-14,0-2,no,1,left,left_up,no,no-recurrence-events\n",
            "50-59,premeno,25-29,0-2,no,1,left,left_low,no,no-recurrence-events\n",
            "50-59,ge40,30-34,9-11,yes,3,left,right_low,yes,recurrence-events\n",
            "50-59,ge40,10-14,0-2,no,2,left,left_low,no,no-recurrence-events\n",
            "40-49,premeno,30-34,0-2,no,1,left,right_up,no,no-recurrence-events\n",
            "70-79,ge40,0-4,0-2,no,1,left,right_low,no,no-recurrence-events\n",
            "40-49,premeno,25-29,0-2,no,3,right,left_up,yes,no-recurrence-events\n",
            "50-59,premeno,25-29,0-2,no,3,right,left_low,yes,recurrence-events\n",
            "50-59,ge40,40-44,0-2,no,2,left,left_low,no,no-recurrence-events\n",
            "60-69,ge40,25-29,0-2,no,3,left,right_low,yes,recurrence-events\n",
            "40-49,premeno,30-34,3-5,yes,2,right,left_low,no,no-recurrence-events\n",
            "50-59,ge40,20-24,0-2,no,2,left,left_up,no,recurrence-events\n",
            "70-79,ge40,20-24,0-2,no,3,left,left_up,no,no-recurrence-events\n",
            "30-39,premeno,25-29,0-2,no,1,left,central,no,no-recurrence-events\n",
            "60-69,ge40,30-34,0-2,no,2,left,left_low,no,no-recurrence-events\n",
            "40-49,premeno,20-24,3-5,yes,2,right,right_up,yes,recurrence-events\n",
            "50-59,ge40,30-34,9-11,,3,left,left_low,yes,no-recurrence-events\n",
            "50-59,ge40,0-4,0-2,no,2,left,central,no,no-recurrence-events\n",
            "40-49,premeno,20-24,0-2,no,3,right,left_low,yes,no-recurrence-events\n",
            "30-39,premeno,35-39,0-2,no,3,left,left_low,no,recurrence-events\n",
            "60-69,ge40,30-34,0-2,no,1,left,left_up,no,no-recurrence-events\n",
            "60-69,ge40,20-24,0-2,no,1,left,left_low,no,no-recurrence-events\n",
            "50-59,ge40,25-29,6-8,no,3,left,left_low,yes,recurrence-events\n",
            "50-59,premeno,35-39,15-17,yes,3,right,right_up,no,recurrence-events\n",
            "30-39,premeno,20-24,3-5,yes,2,right,left_up,yes,no-recurrence-events\n",
            "40-49,premeno,20-24,6-8,no,2,right,left_low,yes,no-recurrence-events\n",
            "50-59,ge40,35-39,0-2,no,3,left,left_low,no,no-recurrence-events\n",
            "50-59,premeno,35-39,0-2,no,2,right,left_up,no,no-recurrence-events\n",
            "40-49,premeno,25-29,0-2,no,2,left,left_up,yes,no-recurrence-events\n",
            "40-49,premeno,35-39,0-2,no,2,right,right_up,no,no-recurrence-events\n",
            "50-59,premeno,30-34,3-5,yes,2,left,left_low,yes,no-recurrence-events\n",
            "40-49,premeno,20-24,0-2,no,2,right,right_up,no,no-recurrence-events\n",
            "60-69,ge40,15-19,0-2,no,3,right,left_up,yes,no-recurrence-events\n",
            "50-59,ge40,30-34,6-8,yes,2,left,left_low,no,no-recurrence-events\n",
            "50-59,premeno,25-29,3-5,yes,2,left,left_low,yes,no-recurrence-events\n",
            "30-39,premeno,30-34,6-8,yes,2,right,right_up,no,no-recurrence-events\n",
            "50-59,premeno,15-19,0-2,no,2,right,left_low,no,no-recurrence-events\n",
            "50-59,ge40,40-44,0-2,no,3,left,right_up,no,no-recurrence-events\n",
            "\n"
          ],
          "name": "stdout"
        }
      ]
    },
    {
      "cell_type": "code",
      "metadata": {
        "id": "9NFUO088mcod",
        "colab_type": "code",
        "outputId": "91b81318-041f-4c93-8750-715e69b2e11c",
        "colab": {
          "base_uri": "https://localhost:8080/",
          "height": 370
        }
      },
      "source": [
        "df = pd.read_csv(textfile.read())"
      ],
      "execution_count": 0,
      "outputs": [
        {
          "output_type": "error",
          "ename": "FileNotFoundError",
          "evalue": "ignored",
          "traceback": [
            "\u001b[0;31m---------------------------------------------------------------------------\u001b[0m",
            "\u001b[0;31mFileNotFoundError\u001b[0m                         Traceback (most recent call last)",
            "\u001b[0;32m<ipython-input-21-b30a389c918b>\u001b[0m in \u001b[0;36m<module>\u001b[0;34m()\u001b[0m\n\u001b[0;32m----> 1\u001b[0;31m \u001b[0mdf\u001b[0m \u001b[0;34m=\u001b[0m \u001b[0mpd\u001b[0m\u001b[0;34m.\u001b[0m\u001b[0mread_csv\u001b[0m\u001b[0;34m(\u001b[0m\u001b[0mtextfile\u001b[0m\u001b[0;34m.\u001b[0m\u001b[0mread\u001b[0m\u001b[0;34m(\u001b[0m\u001b[0;34m)\u001b[0m\u001b[0;34m)\u001b[0m\u001b[0;34m\u001b[0m\u001b[0;34m\u001b[0m\u001b[0m\n\u001b[0m",
            "\u001b[0;32m/usr/local/lib/python3.6/dist-packages/pandas/io/parsers.py\u001b[0m in \u001b[0;36mparser_f\u001b[0;34m(filepath_or_buffer, sep, delimiter, header, names, index_col, usecols, squeeze, prefix, mangle_dupe_cols, dtype, engine, converters, true_values, false_values, skipinitialspace, skiprows, skipfooter, nrows, na_values, keep_default_na, na_filter, verbose, skip_blank_lines, parse_dates, infer_datetime_format, keep_date_col, date_parser, dayfirst, iterator, chunksize, compression, thousands, decimal, lineterminator, quotechar, quoting, doublequote, escapechar, comment, encoding, dialect, tupleize_cols, error_bad_lines, warn_bad_lines, delim_whitespace, low_memory, memory_map, float_precision)\u001b[0m\n\u001b[1;32m    700\u001b[0m                     skip_blank_lines=skip_blank_lines)\n\u001b[1;32m    701\u001b[0m \u001b[0;34m\u001b[0m\u001b[0m\n\u001b[0;32m--> 702\u001b[0;31m         \u001b[0;32mreturn\u001b[0m \u001b[0m_read\u001b[0m\u001b[0;34m(\u001b[0m\u001b[0mfilepath_or_buffer\u001b[0m\u001b[0;34m,\u001b[0m \u001b[0mkwds\u001b[0m\u001b[0;34m)\u001b[0m\u001b[0;34m\u001b[0m\u001b[0;34m\u001b[0m\u001b[0m\n\u001b[0m\u001b[1;32m    703\u001b[0m \u001b[0;34m\u001b[0m\u001b[0m\n\u001b[1;32m    704\u001b[0m     \u001b[0mparser_f\u001b[0m\u001b[0;34m.\u001b[0m\u001b[0m__name__\u001b[0m \u001b[0;34m=\u001b[0m \u001b[0mname\u001b[0m\u001b[0;34m\u001b[0m\u001b[0;34m\u001b[0m\u001b[0m\n",
            "\u001b[0;32m/usr/local/lib/python3.6/dist-packages/pandas/io/parsers.py\u001b[0m in \u001b[0;36m_read\u001b[0;34m(filepath_or_buffer, kwds)\u001b[0m\n\u001b[1;32m    427\u001b[0m \u001b[0;34m\u001b[0m\u001b[0m\n\u001b[1;32m    428\u001b[0m     \u001b[0;31m# Create the parser.\u001b[0m\u001b[0;34m\u001b[0m\u001b[0;34m\u001b[0m\u001b[0;34m\u001b[0m\u001b[0m\n\u001b[0;32m--> 429\u001b[0;31m     \u001b[0mparser\u001b[0m \u001b[0;34m=\u001b[0m \u001b[0mTextFileReader\u001b[0m\u001b[0;34m(\u001b[0m\u001b[0mfilepath_or_buffer\u001b[0m\u001b[0;34m,\u001b[0m \u001b[0;34m**\u001b[0m\u001b[0mkwds\u001b[0m\u001b[0;34m)\u001b[0m\u001b[0;34m\u001b[0m\u001b[0;34m\u001b[0m\u001b[0m\n\u001b[0m\u001b[1;32m    430\u001b[0m \u001b[0;34m\u001b[0m\u001b[0m\n\u001b[1;32m    431\u001b[0m     \u001b[0;32mif\u001b[0m \u001b[0mchunksize\u001b[0m \u001b[0;32mor\u001b[0m \u001b[0miterator\u001b[0m\u001b[0;34m:\u001b[0m\u001b[0;34m\u001b[0m\u001b[0;34m\u001b[0m\u001b[0m\n",
            "\u001b[0;32m/usr/local/lib/python3.6/dist-packages/pandas/io/parsers.py\u001b[0m in \u001b[0;36m__init__\u001b[0;34m(self, f, engine, **kwds)\u001b[0m\n\u001b[1;32m    893\u001b[0m             \u001b[0mself\u001b[0m\u001b[0;34m.\u001b[0m\u001b[0moptions\u001b[0m\u001b[0;34m[\u001b[0m\u001b[0;34m'has_index_names'\u001b[0m\u001b[0;34m]\u001b[0m \u001b[0;34m=\u001b[0m \u001b[0mkwds\u001b[0m\u001b[0;34m[\u001b[0m\u001b[0;34m'has_index_names'\u001b[0m\u001b[0;34m]\u001b[0m\u001b[0;34m\u001b[0m\u001b[0;34m\u001b[0m\u001b[0m\n\u001b[1;32m    894\u001b[0m \u001b[0;34m\u001b[0m\u001b[0m\n\u001b[0;32m--> 895\u001b[0;31m         \u001b[0mself\u001b[0m\u001b[0;34m.\u001b[0m\u001b[0m_make_engine\u001b[0m\u001b[0;34m(\u001b[0m\u001b[0mself\u001b[0m\u001b[0;34m.\u001b[0m\u001b[0mengine\u001b[0m\u001b[0;34m)\u001b[0m\u001b[0;34m\u001b[0m\u001b[0;34m\u001b[0m\u001b[0m\n\u001b[0m\u001b[1;32m    896\u001b[0m \u001b[0;34m\u001b[0m\u001b[0m\n\u001b[1;32m    897\u001b[0m     \u001b[0;32mdef\u001b[0m \u001b[0mclose\u001b[0m\u001b[0;34m(\u001b[0m\u001b[0mself\u001b[0m\u001b[0;34m)\u001b[0m\u001b[0;34m:\u001b[0m\u001b[0;34m\u001b[0m\u001b[0;34m\u001b[0m\u001b[0m\n",
            "\u001b[0;32m/usr/local/lib/python3.6/dist-packages/pandas/io/parsers.py\u001b[0m in \u001b[0;36m_make_engine\u001b[0;34m(self, engine)\u001b[0m\n\u001b[1;32m   1120\u001b[0m     \u001b[0;32mdef\u001b[0m \u001b[0m_make_engine\u001b[0m\u001b[0;34m(\u001b[0m\u001b[0mself\u001b[0m\u001b[0;34m,\u001b[0m \u001b[0mengine\u001b[0m\u001b[0;34m=\u001b[0m\u001b[0;34m'c'\u001b[0m\u001b[0;34m)\u001b[0m\u001b[0;34m:\u001b[0m\u001b[0;34m\u001b[0m\u001b[0;34m\u001b[0m\u001b[0m\n\u001b[1;32m   1121\u001b[0m         \u001b[0;32mif\u001b[0m \u001b[0mengine\u001b[0m \u001b[0;34m==\u001b[0m \u001b[0;34m'c'\u001b[0m\u001b[0;34m:\u001b[0m\u001b[0;34m\u001b[0m\u001b[0;34m\u001b[0m\u001b[0m\n\u001b[0;32m-> 1122\u001b[0;31m             \u001b[0mself\u001b[0m\u001b[0;34m.\u001b[0m\u001b[0m_engine\u001b[0m \u001b[0;34m=\u001b[0m \u001b[0mCParserWrapper\u001b[0m\u001b[0;34m(\u001b[0m\u001b[0mself\u001b[0m\u001b[0;34m.\u001b[0m\u001b[0mf\u001b[0m\u001b[0;34m,\u001b[0m \u001b[0;34m**\u001b[0m\u001b[0mself\u001b[0m\u001b[0;34m.\u001b[0m\u001b[0moptions\u001b[0m\u001b[0;34m)\u001b[0m\u001b[0;34m\u001b[0m\u001b[0;34m\u001b[0m\u001b[0m\n\u001b[0m\u001b[1;32m   1123\u001b[0m         \u001b[0;32melse\u001b[0m\u001b[0;34m:\u001b[0m\u001b[0;34m\u001b[0m\u001b[0;34m\u001b[0m\u001b[0m\n\u001b[1;32m   1124\u001b[0m             \u001b[0;32mif\u001b[0m \u001b[0mengine\u001b[0m \u001b[0;34m==\u001b[0m \u001b[0;34m'python'\u001b[0m\u001b[0;34m:\u001b[0m\u001b[0;34m\u001b[0m\u001b[0;34m\u001b[0m\u001b[0m\n",
            "\u001b[0;32m/usr/local/lib/python3.6/dist-packages/pandas/io/parsers.py\u001b[0m in \u001b[0;36m__init__\u001b[0;34m(self, src, **kwds)\u001b[0m\n\u001b[1;32m   1851\u001b[0m         \u001b[0mkwds\u001b[0m\u001b[0;34m[\u001b[0m\u001b[0;34m'usecols'\u001b[0m\u001b[0;34m]\u001b[0m \u001b[0;34m=\u001b[0m \u001b[0mself\u001b[0m\u001b[0;34m.\u001b[0m\u001b[0musecols\u001b[0m\u001b[0;34m\u001b[0m\u001b[0;34m\u001b[0m\u001b[0m\n\u001b[1;32m   1852\u001b[0m \u001b[0;34m\u001b[0m\u001b[0m\n\u001b[0;32m-> 1853\u001b[0;31m         \u001b[0mself\u001b[0m\u001b[0;34m.\u001b[0m\u001b[0m_reader\u001b[0m \u001b[0;34m=\u001b[0m \u001b[0mparsers\u001b[0m\u001b[0;34m.\u001b[0m\u001b[0mTextReader\u001b[0m\u001b[0;34m(\u001b[0m\u001b[0msrc\u001b[0m\u001b[0;34m,\u001b[0m \u001b[0;34m**\u001b[0m\u001b[0mkwds\u001b[0m\u001b[0;34m)\u001b[0m\u001b[0;34m\u001b[0m\u001b[0;34m\u001b[0m\u001b[0m\n\u001b[0m\u001b[1;32m   1854\u001b[0m         \u001b[0mself\u001b[0m\u001b[0;34m.\u001b[0m\u001b[0munnamed_cols\u001b[0m \u001b[0;34m=\u001b[0m \u001b[0mself\u001b[0m\u001b[0;34m.\u001b[0m\u001b[0m_reader\u001b[0m\u001b[0;34m.\u001b[0m\u001b[0munnamed_cols\u001b[0m\u001b[0;34m\u001b[0m\u001b[0;34m\u001b[0m\u001b[0m\n\u001b[1;32m   1855\u001b[0m \u001b[0;34m\u001b[0m\u001b[0m\n",
            "\u001b[0;32mpandas/_libs/parsers.pyx\u001b[0m in \u001b[0;36mpandas._libs.parsers.TextReader.__cinit__\u001b[0;34m()\u001b[0m\n",
            "\u001b[0;32mpandas/_libs/parsers.pyx\u001b[0m in \u001b[0;36mpandas._libs.parsers.TextReader._setup_parser_source\u001b[0;34m()\u001b[0m\n",
            "\u001b[0;31mFileNotFoundError\u001b[0m: [Errno 2] File b'' does not exist: b''"
          ]
        }
      ]
    },
    {
      "cell_type": "markdown",
      "metadata": {
        "id": "ywx_N66QeRqZ",
        "colab_type": "text"
      },
      "source": [
        "# Importing File using sharing link in Dataframe"
      ]
    },
    {
      "cell_type": "code",
      "metadata": {
        "id": "RzZjOFF6dagb",
        "colab_type": "code",
        "outputId": "8926fedf-8802-4bcb-82f0-c0de714a97ec",
        "colab": {
          "base_uri": "https://localhost:8080/",
          "height": 50
        }
      },
      "source": [
        "!pip install -U -q PyDrive"
      ],
      "execution_count": 0,
      "outputs": [
        {
          "output_type": "stream",
          "text": [
            "\u001b[?25l\r\u001b[K     |▎                               | 10kB 13.1MB/s eta 0:00:01\r\u001b[K     |▋                               | 20kB 3.4MB/s eta 0:00:01\r\u001b[K     |█                               | 30kB 4.8MB/s eta 0:00:01\r\u001b[K     |█▎                              | 40kB 3.1MB/s eta 0:00:01\r\u001b[K     |█▋                              | 51kB 3.7MB/s eta 0:00:01\r\u001b[K     |██                              | 61kB 4.4MB/s eta 0:00:01\r\u001b[K     |██▎                             | 71kB 5.0MB/s eta 0:00:01\r\u001b[K     |██▋                             | 81kB 5.7MB/s eta 0:00:01\r\u001b[K     |███                             | 92kB 6.3MB/s eta 0:00:01\r\u001b[K     |███▎                            | 102kB 4.9MB/s eta 0:00:01\r\u001b[K     |███▋                            | 112kB 4.9MB/s eta 0:00:01\r\u001b[K     |████                            | 122kB 4.9MB/s eta 0:00:01\r\u001b[K     |████▎                           | 133kB 4.9MB/s eta 0:00:01\r\u001b[K     |████▋                           | 143kB 4.9MB/s eta 0:00:01\r\u001b[K     |█████                           | 153kB 4.9MB/s eta 0:00:01\r\u001b[K     |█████▎                          | 163kB 4.9MB/s eta 0:00:01\r\u001b[K     |█████▋                          | 174kB 4.9MB/s eta 0:00:01\r\u001b[K     |██████                          | 184kB 4.9MB/s eta 0:00:01\r\u001b[K     |██████▎                         | 194kB 4.9MB/s eta 0:00:01\r\u001b[K     |██████▋                         | 204kB 4.9MB/s eta 0:00:01\r\u001b[K     |███████                         | 215kB 4.9MB/s eta 0:00:01\r\u001b[K     |███████▎                        | 225kB 4.9MB/s eta 0:00:01\r\u001b[K     |███████▋                        | 235kB 4.9MB/s eta 0:00:01\r\u001b[K     |████████                        | 245kB 4.9MB/s eta 0:00:01\r\u001b[K     |████████▎                       | 256kB 4.9MB/s eta 0:00:01\r\u001b[K     |████████▋                       | 266kB 4.9MB/s eta 0:00:01\r\u001b[K     |█████████                       | 276kB 4.9MB/s eta 0:00:01\r\u001b[K     |█████████▎                      | 286kB 4.9MB/s eta 0:00:01\r\u001b[K     |█████████▋                      | 296kB 4.9MB/s eta 0:00:01\r\u001b[K     |██████████                      | 307kB 4.9MB/s eta 0:00:01\r\u001b[K     |██████████▎                     | 317kB 4.9MB/s eta 0:00:01\r\u001b[K     |██████████▋                     | 327kB 4.9MB/s eta 0:00:01\r\u001b[K     |███████████                     | 337kB 4.9MB/s eta 0:00:01\r\u001b[K     |███████████▎                    | 348kB 4.9MB/s eta 0:00:01\r\u001b[K     |███████████▋                    | 358kB 4.9MB/s eta 0:00:01\r\u001b[K     |████████████                    | 368kB 4.9MB/s eta 0:00:01\r\u001b[K     |████████████▎                   | 378kB 4.9MB/s eta 0:00:01\r\u001b[K     |████████████▋                   | 389kB 4.9MB/s eta 0:00:01\r\u001b[K     |█████████████                   | 399kB 4.9MB/s eta 0:00:01\r\u001b[K     |█████████████▎                  | 409kB 4.9MB/s eta 0:00:01\r\u001b[K     |█████████████▋                  | 419kB 4.9MB/s eta 0:00:01\r\u001b[K     |██████████████                  | 430kB 4.9MB/s eta 0:00:01\r\u001b[K     |██████████████▎                 | 440kB 4.9MB/s eta 0:00:01\r\u001b[K     |██████████████▋                 | 450kB 4.9MB/s eta 0:00:01\r\u001b[K     |███████████████                 | 460kB 4.9MB/s eta 0:00:01\r\u001b[K     |███████████████▎                | 471kB 4.9MB/s eta 0:00:01\r\u001b[K     |███████████████▋                | 481kB 4.9MB/s eta 0:00:01\r\u001b[K     |████████████████                | 491kB 4.9MB/s eta 0:00:01\r\u001b[K     |████████████████▎               | 501kB 4.9MB/s eta 0:00:01\r\u001b[K     |████████████████▋               | 512kB 4.9MB/s eta 0:00:01\r\u001b[K     |█████████████████               | 522kB 4.9MB/s eta 0:00:01\r\u001b[K     |█████████████████▎              | 532kB 4.9MB/s eta 0:00:01\r\u001b[K     |█████████████████▋              | 542kB 4.9MB/s eta 0:00:01\r\u001b[K     |██████████████████              | 552kB 4.9MB/s eta 0:00:01\r\u001b[K     |██████████████████▎             | 563kB 4.9MB/s eta 0:00:01\r\u001b[K     |██████████████████▋             | 573kB 4.9MB/s eta 0:00:01\r\u001b[K     |███████████████████             | 583kB 4.9MB/s eta 0:00:01\r\u001b[K     |███████████████████▎            | 593kB 4.9MB/s eta 0:00:01\r\u001b[K     |███████████████████▋            | 604kB 4.9MB/s eta 0:00:01\r\u001b[K     |████████████████████            | 614kB 4.9MB/s eta 0:00:01\r\u001b[K     |████████████████████▎           | 624kB 4.9MB/s eta 0:00:01\r\u001b[K     |████████████████████▋           | 634kB 4.9MB/s eta 0:00:01\r\u001b[K     |█████████████████████           | 645kB 4.9MB/s eta 0:00:01\r\u001b[K     |█████████████████████▎          | 655kB 4.9MB/s eta 0:00:01\r\u001b[K     |█████████████████████▋          | 665kB 4.9MB/s eta 0:00:01\r\u001b[K     |██████████████████████          | 675kB 4.9MB/s eta 0:00:01\r\u001b[K     |██████████████████████▎         | 686kB 4.9MB/s eta 0:00:01\r\u001b[K     |██████████████████████▋         | 696kB 4.9MB/s eta 0:00:01\r\u001b[K     |███████████████████████         | 706kB 4.9MB/s eta 0:00:01\r\u001b[K     |███████████████████████▎        | 716kB 4.9MB/s eta 0:00:01\r\u001b[K     |███████████████████████▋        | 727kB 4.9MB/s eta 0:00:01\r\u001b[K     |████████████████████████        | 737kB 4.9MB/s eta 0:00:01\r\u001b[K     |████████████████████████▎       | 747kB 4.9MB/s eta 0:00:01\r\u001b[K     |████████████████████████▋       | 757kB 4.9MB/s eta 0:00:01\r\u001b[K     |████████████████████████▉       | 768kB 4.9MB/s eta 0:00:01\r\u001b[K     |█████████████████████████▏      | 778kB 4.9MB/s eta 0:00:01\r\u001b[K     |█████████████████████████▌      | 788kB 4.9MB/s eta 0:00:01\r\u001b[K     |█████████████████████████▉      | 798kB 4.9MB/s eta 0:00:01\r\u001b[K     |██████████████████████████▏     | 808kB 4.9MB/s eta 0:00:01\r\u001b[K     |██████████████████████████▌     | 819kB 4.9MB/s eta 0:00:01\r\u001b[K     |██████████████████████████▉     | 829kB 4.9MB/s eta 0:00:01\r\u001b[K     |███████████████████████████▏    | 839kB 4.9MB/s eta 0:00:01\r\u001b[K     |███████████████████████████▌    | 849kB 4.9MB/s eta 0:00:01\r\u001b[K     |███████████████████████████▉    | 860kB 4.9MB/s eta 0:00:01\r\u001b[K     |████████████████████████████▏   | 870kB 4.9MB/s eta 0:00:01\r\u001b[K     |████████████████████████████▌   | 880kB 4.9MB/s eta 0:00:01\r\u001b[K     |████████████████████████████▉   | 890kB 4.9MB/s eta 0:00:01\r\u001b[K     |█████████████████████████████▏  | 901kB 4.9MB/s eta 0:00:01\r\u001b[K     |█████████████████████████████▌  | 911kB 4.9MB/s eta 0:00:01\r\u001b[K     |█████████████████████████████▉  | 921kB 4.9MB/s eta 0:00:01\r\u001b[K     |██████████████████████████████▏ | 931kB 4.9MB/s eta 0:00:01\r\u001b[K     |██████████████████████████████▌ | 942kB 4.9MB/s eta 0:00:01\r\u001b[K     |██████████████████████████████▉ | 952kB 4.9MB/s eta 0:00:01\r\u001b[K     |███████████████████████████████▏| 962kB 4.9MB/s eta 0:00:01\r\u001b[K     |███████████████████████████████▌| 972kB 4.9MB/s eta 0:00:01\r\u001b[K     |███████████████████████████████▉| 983kB 4.9MB/s eta 0:00:01\r\u001b[K     |████████████████████████████████| 993kB 4.9MB/s \n",
            "\u001b[?25h  Building wheel for PyDrive (setup.py) ... \u001b[?25l\u001b[?25hdone\n"
          ],
          "name": "stdout"
        }
      ]
    },
    {
      "cell_type": "code",
      "metadata": {
        "id": "JtUoI0tdavxw",
        "colab_type": "code",
        "colab": {}
      },
      "source": [
        "from pydrive.auth import GoogleAuth\n",
        "from pydrive.drive import GoogleDrive\n",
        "from google.colab import auth\n",
        "from oauth2client.client import GoogleCredentials"
      ],
      "execution_count": 0,
      "outputs": []
    },
    {
      "cell_type": "code",
      "metadata": {
        "id": "OzrFyUKvdBK1",
        "colab_type": "code",
        "colab": {}
      },
      "source": [
        "auth.authenticate_user()\n",
        "gauth = GoogleAuth()\n",
        "gauth.credentials = GoogleCredentials.get_application_default()\n",
        "drive = GoogleDrive(gauth)"
      ],
      "execution_count": 0,
      "outputs": []
    },
    {
      "cell_type": "code",
      "metadata": {
        "id": "tkqELJGEdhAz",
        "colab_type": "code",
        "colab": {}
      },
      "source": [
        "link = 'https://drive.google.com/open?id=1AdvXbMiC6r48fiFjrJcKv5QdiTrle2KC'"
      ],
      "execution_count": 0,
      "outputs": []
    },
    {
      "cell_type": "code",
      "metadata": {
        "id": "bBlglLQveEP_",
        "colab_type": "code",
        "outputId": "b7c410d5-67e5-4bbc-d746-393760780b3e",
        "colab": {
          "base_uri": "https://localhost:8080/",
          "height": 34
        }
      },
      "source": [
        "fluff, id = link.split('=')\n",
        "print (id)"
      ],
      "execution_count": 0,
      "outputs": [
        {
          "output_type": "stream",
          "text": [
            "1AdvXbMiC6r48fiFjrJcKv5QdiTrle2KC\n"
          ],
          "name": "stdout"
        }
      ]
    },
    {
      "cell_type": "code",
      "metadata": {
        "id": "m0CkmI9DeEvT",
        "colab_type": "code",
        "colab": {}
      },
      "source": [
        "downloaded = drive.CreateFile({'id':id}) \n",
        "downloaded.GetContentFile('Filename.csv')  \n",
        "df3 = pd.read_csv('Filename.csv')"
      ],
      "execution_count": 0,
      "outputs": []
    },
    {
      "cell_type": "code",
      "metadata": {
        "id": "IGkbrA0leIF-",
        "colab_type": "code",
        "outputId": "aa3905ec-dedf-4a0b-9385-86d78d9d6123",
        "colab": {
          "base_uri": "https://localhost:8080/",
          "height": 195
        }
      },
      "source": [
        "df3.head()"
      ],
      "execution_count": 0,
      "outputs": [
        {
          "output_type": "execute_result",
          "data": {
            "text/html": [
              "<div>\n",
              "<style scoped>\n",
              "    .dataframe tbody tr th:only-of-type {\n",
              "        vertical-align: middle;\n",
              "    }\n",
              "\n",
              "    .dataframe tbody tr th {\n",
              "        vertical-align: top;\n",
              "    }\n",
              "\n",
              "    .dataframe thead th {\n",
              "        text-align: right;\n",
              "    }\n",
              "</style>\n",
              "<table border=\"1\" class=\"dataframe\">\n",
              "  <thead>\n",
              "    <tr style=\"text-align: right;\">\n",
              "      <th></th>\n",
              "      <th>age</th>\n",
              "      <th>menopause</th>\n",
              "      <th>tumor-size</th>\n",
              "      <th>inv-nodes</th>\n",
              "      <th>node-caps</th>\n",
              "      <th>deg-malig</th>\n",
              "      <th>breast</th>\n",
              "      <th>breast-quad</th>\n",
              "      <th>irradiat</th>\n",
              "      <th>Class</th>\n",
              "    </tr>\n",
              "  </thead>\n",
              "  <tbody>\n",
              "    <tr>\n",
              "      <th>0</th>\n",
              "      <td>40-49</td>\n",
              "      <td>premeno</td>\n",
              "      <td>15-19</td>\n",
              "      <td>0-2</td>\n",
              "      <td>yes</td>\n",
              "      <td>3</td>\n",
              "      <td>right</td>\n",
              "      <td>left_up</td>\n",
              "      <td>no</td>\n",
              "      <td>recurrence-events</td>\n",
              "    </tr>\n",
              "    <tr>\n",
              "      <th>1</th>\n",
              "      <td>50-59</td>\n",
              "      <td>ge40</td>\n",
              "      <td>15-19</td>\n",
              "      <td>0-2</td>\n",
              "      <td>no</td>\n",
              "      <td>1</td>\n",
              "      <td>right</td>\n",
              "      <td>central</td>\n",
              "      <td>no</td>\n",
              "      <td>no-recurrence-events</td>\n",
              "    </tr>\n",
              "    <tr>\n",
              "      <th>2</th>\n",
              "      <td>50-59</td>\n",
              "      <td>ge40</td>\n",
              "      <td>35-39</td>\n",
              "      <td>0-2</td>\n",
              "      <td>no</td>\n",
              "      <td>2</td>\n",
              "      <td>left</td>\n",
              "      <td>left_low</td>\n",
              "      <td>no</td>\n",
              "      <td>recurrence-events</td>\n",
              "    </tr>\n",
              "    <tr>\n",
              "      <th>3</th>\n",
              "      <td>40-49</td>\n",
              "      <td>premeno</td>\n",
              "      <td>35-39</td>\n",
              "      <td>0-2</td>\n",
              "      <td>yes</td>\n",
              "      <td>3</td>\n",
              "      <td>right</td>\n",
              "      <td>left_low</td>\n",
              "      <td>yes</td>\n",
              "      <td>no-recurrence-events</td>\n",
              "    </tr>\n",
              "    <tr>\n",
              "      <th>4</th>\n",
              "      <td>40-49</td>\n",
              "      <td>premeno</td>\n",
              "      <td>30-34</td>\n",
              "      <td>3-5</td>\n",
              "      <td>yes</td>\n",
              "      <td>2</td>\n",
              "      <td>left</td>\n",
              "      <td>right_up</td>\n",
              "      <td>no</td>\n",
              "      <td>recurrence-events</td>\n",
              "    </tr>\n",
              "  </tbody>\n",
              "</table>\n",
              "</div>"
            ],
            "text/plain": [
              "     age menopause tumor-size  ... breast-quad irradiat                 Class\n",
              "0  40-49   premeno      15-19  ...     left_up       no     recurrence-events\n",
              "1  50-59      ge40      15-19  ...     central       no  no-recurrence-events\n",
              "2  50-59      ge40      35-39  ...    left_low       no     recurrence-events\n",
              "3  40-49   premeno      35-39  ...    left_low      yes  no-recurrence-events\n",
              "4  40-49   premeno      30-34  ...    right_up       no     recurrence-events\n",
              "\n",
              "[5 rows x 10 columns]"
            ]
          },
          "metadata": {
            "tags": []
          },
          "execution_count": 16
        }
      ]
    },
    {
      "cell_type": "markdown",
      "metadata": {
        "id": "K7wa1nIoh6Ea",
        "colab_type": "text"
      },
      "source": [
        "# Upload and Read from Pandas dataframe\n",
        "\n",
        "After running 1st cell you'll get option for upload a file and in next cell you can import that file from the upload buffer to datafrrame"
      ]
    },
    {
      "cell_type": "code",
      "metadata": {
        "id": "Mh10ZugXiH8F",
        "colab_type": "code",
        "outputId": "4724bbcf-160d-4f9c-eaae-c50edfc94047",
        "colab": {
          "resources": {
            "http://localhost:8080/nbextensions/google.colab/files.js": {
              "data": "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",
              "ok": true,
              "headers": [
                [
                  "content-type",
                  "application/javascript"
                ]
              ],
              "status": 200,
              "status_text": ""
            }
          },
          "base_uri": "https://localhost:8080/",
          "height": 41
        }
      },
      "source": [
        "from google.colab import files\n",
        "uploaded = files.upload()"
      ],
      "execution_count": 0,
      "outputs": [
        {
          "output_type": "display_data",
          "data": {
            "text/html": [
              "\n",
              "     <input type=\"file\" id=\"files-ef3cf9ab-ea5a-4a76-95f7-212dbc6a5d28\" name=\"files[]\" multiple disabled />\n",
              "     <output id=\"result-ef3cf9ab-ea5a-4a76-95f7-212dbc6a5d28\">\n",
              "      Upload widget is only available when the cell has been executed in the\n",
              "      current browser session. Please rerun this cell to enable.\n",
              "      </output>\n",
              "      <script src=\"/nbextensions/google.colab/files.js\"></script> "
            ],
            "text/plain": [
              "<IPython.core.display.HTML object>"
            ]
          },
          "metadata": {
            "tags": []
          }
        }
      ]
    },
    {
      "cell_type": "code",
      "metadata": {
        "id": "O2oTwMu4iQLa",
        "colab_type": "code",
        "colab": {}
      },
      "source": [
        "import io\n",
        "df2 = pd.read_csv(io.BytesIO(uploaded['Filename.csv']))"
      ],
      "execution_count": 0,
      "outputs": []
    },
    {
      "cell_type": "markdown",
      "metadata": {
        "id": "mMA3NA-xdlQN",
        "colab_type": "text"
      },
      "source": [
        "# Download and Read for Pandas dataframe"
      ]
    },
    {
      "cell_type": "markdown",
      "metadata": {
        "id": "hgsov6wvngAk",
        "colab_type": "text"
      },
      "source": [
        "[CSV Dataset Library](https://vincentarelbundock.github.io/Rdatasets/datasets.html) - To use any dataset from Library copy the link of the dataset and replace here"
      ]
    },
    {
      "cell_type": "code",
      "metadata": {
        "id": "ybK-MMcOdkeD",
        "colab_type": "code",
        "colab": {
          "base_uri": "https://localhost:8080/",
          "height": 204
        },
        "outputId": "753ce22a-9cff-4632-ce84-667966cbe196"
      },
      "source": [
        "!wget -O spam.csv https://vincentarelbundock.github.io/Rdatasets/csv/DAAG/spam7.csv"
      ],
      "execution_count": 7,
      "outputs": [
        {
          "output_type": "stream",
          "text": [
            "--2020-02-23 01:18:49--  https://vincentarelbundock.github.io/Rdatasets/csv/DAAG/spam7.csv\n",
            "Resolving vincentarelbundock.github.io (vincentarelbundock.github.io)... 185.199.108.153, 185.199.110.153, 185.199.111.153, ...\n",
            "Connecting to vincentarelbundock.github.io (vincentarelbundock.github.io)|185.199.108.153|:443... connected.\n",
            "HTTP request sent, awaiting response... 200 OK\n",
            "Length: 132772 (130K) [text/csv]\n",
            "Saving to: ‘spam.csv’\n",
            "\n",
            "\rspam.csv              0%[                    ]       0  --.-KB/s               \rspam.csv            100%[===================>] 129.66K  --.-KB/s    in 0.04s   \n",
            "\n",
            "2020-02-23 01:18:49 (3.21 MB/s) - ‘spam.csv’ saved [132772/132772]\n",
            "\n"
          ],
          "name": "stdout"
        }
      ]
    },
    {
      "cell_type": "code",
      "metadata": {
        "id": "iKGcpVawfJ4C",
        "colab_type": "code",
        "colab": {
          "base_uri": "https://localhost:8080/",
          "height": 204
        },
        "outputId": "f0f24616-a124-4dfa-896d-57167d054603"
      },
      "source": [
        "my_data = pd.read_csv(\"spam.csv\", delimiter=\",\")\n",
        "my_data[0:5]"
      ],
      "execution_count": 8,
      "outputs": [
        {
          "output_type": "execute_result",
          "data": {
            "text/html": [
              "<div>\n",
              "<style scoped>\n",
              "    .dataframe tbody tr th:only-of-type {\n",
              "        vertical-align: middle;\n",
              "    }\n",
              "\n",
              "    .dataframe tbody tr th {\n",
              "        vertical-align: top;\n",
              "    }\n",
              "\n",
              "    .dataframe thead th {\n",
              "        text-align: right;\n",
              "    }\n",
              "</style>\n",
              "<table border=\"1\" class=\"dataframe\">\n",
              "  <thead>\n",
              "    <tr style=\"text-align: right;\">\n",
              "      <th></th>\n",
              "      <th>Unnamed: 0</th>\n",
              "      <th>crl.tot</th>\n",
              "      <th>dollar</th>\n",
              "      <th>bang</th>\n",
              "      <th>money</th>\n",
              "      <th>n000</th>\n",
              "      <th>make</th>\n",
              "      <th>yesno</th>\n",
              "    </tr>\n",
              "  </thead>\n",
              "  <tbody>\n",
              "    <tr>\n",
              "      <th>0</th>\n",
              "      <td>1</td>\n",
              "      <td>278</td>\n",
              "      <td>0.000</td>\n",
              "      <td>0.778</td>\n",
              "      <td>0.00</td>\n",
              "      <td>0.00</td>\n",
              "      <td>0.00</td>\n",
              "      <td>y</td>\n",
              "    </tr>\n",
              "    <tr>\n",
              "      <th>1</th>\n",
              "      <td>2</td>\n",
              "      <td>1028</td>\n",
              "      <td>0.180</td>\n",
              "      <td>0.372</td>\n",
              "      <td>0.43</td>\n",
              "      <td>0.43</td>\n",
              "      <td>0.21</td>\n",
              "      <td>y</td>\n",
              "    </tr>\n",
              "    <tr>\n",
              "      <th>2</th>\n",
              "      <td>3</td>\n",
              "      <td>2259</td>\n",
              "      <td>0.184</td>\n",
              "      <td>0.276</td>\n",
              "      <td>0.06</td>\n",
              "      <td>1.16</td>\n",
              "      <td>0.06</td>\n",
              "      <td>y</td>\n",
              "    </tr>\n",
              "    <tr>\n",
              "      <th>3</th>\n",
              "      <td>4</td>\n",
              "      <td>191</td>\n",
              "      <td>0.000</td>\n",
              "      <td>0.137</td>\n",
              "      <td>0.00</td>\n",
              "      <td>0.00</td>\n",
              "      <td>0.00</td>\n",
              "      <td>y</td>\n",
              "    </tr>\n",
              "    <tr>\n",
              "      <th>4</th>\n",
              "      <td>5</td>\n",
              "      <td>191</td>\n",
              "      <td>0.000</td>\n",
              "      <td>0.135</td>\n",
              "      <td>0.00</td>\n",
              "      <td>0.00</td>\n",
              "      <td>0.00</td>\n",
              "      <td>y</td>\n",
              "    </tr>\n",
              "  </tbody>\n",
              "</table>\n",
              "</div>"
            ],
            "text/plain": [
              "   Unnamed: 0  crl.tot  dollar   bang  money  n000  make yesno\n",
              "0           1      278   0.000  0.778   0.00  0.00  0.00     y\n",
              "1           2     1028   0.180  0.372   0.43  0.43  0.21     y\n",
              "2           3     2259   0.184  0.276   0.06  1.16  0.06     y\n",
              "3           4      191   0.000  0.137   0.00  0.00  0.00     y\n",
              "4           5      191   0.000  0.135   0.00  0.00  0.00     y"
            ]
          },
          "metadata": {
            "tags": []
          },
          "execution_count": 8
        }
      ]
    }
  ]
}